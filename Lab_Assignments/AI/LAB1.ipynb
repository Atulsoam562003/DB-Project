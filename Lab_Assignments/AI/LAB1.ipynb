{
 "cells": [
  {
   "cell_type": "markdown",
   "id": "0dadfa48",
   "metadata": {},
   "source": [
    "# Ques 7"
   ]
  },
  {
   "cell_type": "code",
   "execution_count": 1,
   "id": "12abe088",
   "metadata": {},
   "outputs": [
    {
     "name": "stdout",
     "output_type": "stream",
     "text": [
      "[1, 2, 3, 4, 6]\n"
     ]
    }
   ],
   "source": [
    "def unique_list(l):\n",
    "    x=[]\n",
    "    for a in l:\n",
    "        if a not in x:\n",
    "            x.append(a)\n",
    "    return x\n",
    "print(unique_list([1,2,3,3,3,4,2,6]))"
   ]
  },
  {
   "cell_type": "markdown",
   "id": "e13564cd",
   "metadata": {},
   "source": [
    "# Ques 4"
   ]
  },
  {
   "cell_type": "code",
   "execution_count": 2,
   "id": "f9d22281",
   "metadata": {},
   "outputs": [
    {
     "data": {
      "text/plain": [
       "True"
      ]
     },
     "execution_count": 2,
     "metadata": {},
     "output_type": "execute_result"
    }
   ],
   "source": [
    "def isAnagram(w1, w2):\n",
    "    sw1=''.join(sorted(w1))\n",
    "    sw2=''.join(sorted(w2))\n",
    "    if(sw1==sw2):\n",
    "        return True\n",
    "    return False\n",
    "isAnagram(\"evil\",\"vile\")"
   ]
  },
  {
   "cell_type": "markdown",
   "id": "e451e8b4",
   "metadata": {},
   "source": [
    "# Ques 3"
   ]
  },
  {
   "cell_type": "code",
   "execution_count": 3,
   "id": "dc27a838",
   "metadata": {},
   "outputs": [
    {
     "name": "stdout",
     "output_type": "stream",
     "text": [
      "35\n",
      "36\n"
     ]
    }
   ],
   "source": [
    "def sum_numbers(*args):\n",
    "    if type (args[0])==list:\n",
    "        args= args[0]\n",
    "    return sum(args)\n",
    "print(sum_numbers(5,6,7,8,9))\n",
    "print(sum_numbers([5,6,7,8,10]))"
   ]
  },
  {
   "cell_type": "markdown",
   "id": "080f945d",
   "metadata": {},
   "source": [
    "# Ques 5"
   ]
  },
  {
   "cell_type": "code",
   "execution_count": 4,
   "id": "7395c359",
   "metadata": {},
   "outputs": [
    {
     "name": "stdout",
     "output_type": "stream",
     "text": [
      "List:[5, 5, 6, 6, 8, 7, 7, 7, 5]\n",
      "Freq: {5: 3, 6: 2, 8: 1, 7: 3}\n",
      "Max_freq: 3\n",
      "Indices: [0, 1, 8]\n"
     ]
    }
   ],
   "source": [
    "import random\n",
    "\n",
    "l=[]\n",
    "for i in range(0,9):\n",
    "    l.append(random.randrange(5,9))\n",
    "\n",
    "print(\"List:\"+ str(l))\n",
    "freq={}\n",
    "max_freq=0\n",
    "\n",
    "for i in l:\n",
    "    freq[i]= l.count(i)\n",
    "    if freq[i]>max_freq:\n",
    "        max_freq= freq[i]\n",
    "        k=i\n",
    "\n",
    "res_list = [i for i in range(len(l)) if l[i]==k]\n",
    "    \n",
    "print(\"Freq: \"+str(freq))\n",
    "print(\"Max_freq: \"+str(max_freq))\n",
    "print(\"Indices: \"+str(res_list))\n",
    "\n",
    "    "
   ]
  },
  {
   "cell_type": "markdown",
   "id": "8511a3da",
   "metadata": {},
   "source": [
    "# Ques 6"
   ]
  },
  {
   "cell_type": "code",
   "execution_count": 5,
   "id": "d24ea318",
   "metadata": {},
   "outputs": [
    {
     "name": "stdout",
     "output_type": "stream",
     "text": [
      "List1: [44, 46, 42, 44, 47, 41, 44, 43, 43, 43]\n",
      "List2: [44, 41, 41, 41, 45, 47, 44, 44, 44, 46]\n",
      "List3: [44, 42, 47, 44, 43, 41, 41, 47, 44, 46]\n"
     ]
    }
   ],
   "source": [
    "import random\n",
    "\n",
    "l1=[]\n",
    "l2=[]\n",
    "\n",
    "for i in range (0,10):\n",
    "    l1.append(random.randrange(40,49))\n",
    "for i in range (0,10):\n",
    "    l2.append(random.randrange(41,48))\n",
    "\n",
    "l3=[]\n",
    "for i in range(len(l1)):\n",
    "    if i%2==0:\n",
    "        l3.append(l1[i])\n",
    "for i in range(len(l2)):\n",
    "    if(i%2==1):\n",
    "        l3.append(l2[i])\n",
    "print(\"List1: \"+ str(l1))\n",
    "print(\"List2: \"+ str(l2))\n",
    "print(\"List3: \"+ str(l3))"
   ]
  },
  {
   "cell_type": "markdown",
   "id": "7ed1779b",
   "metadata": {},
   "source": [
    "# Ques 12"
   ]
  },
  {
   "cell_type": "code",
   "execution_count": 6,
   "id": "3d035b54",
   "metadata": {},
   "outputs": [
    {
     "name": "stdout",
     "output_type": "stream",
     "text": [
      "Sum : 600\n"
     ]
    }
   ],
   "source": [
    "def returnSum(dict):\n",
    "    return sum(dict.values())\n",
    "\n",
    "dict= {'a':100, 'b':200, 'c':300}\n",
    "print(\"Sum :\",returnSum(dict))"
   ]
  },
  {
   "cell_type": "markdown",
   "id": "90615a5c",
   "metadata": {},
   "source": [
    "# Ques 10"
   ]
  },
  {
   "cell_type": "code",
   "execution_count": 7,
   "id": "4daefb57",
   "metadata": {},
   "outputs": [
    {
     "name": "stdout",
     "output_type": "stream",
     "text": [
      "Original: [12, 10, 5, 6, 52, 36]\n",
      "Rotated: [5, 6, 52, 36, 12, 10]\n"
     ]
    }
   ],
   "source": [
    "def splitArr(arr,n,k):\n",
    "    for i in range(0,k):\n",
    "        x=arr[0]\n",
    "        for j in range(0,n-1):\n",
    "            arr[j]= arr[j+1]\n",
    "        arr[n-1]=x\n",
    "\n",
    "arr=[12,10,5,6,52,36]\n",
    "print(\"Original: \"+str(arr))\n",
    "n= len(arr)\n",
    "position= 2\n",
    "\n",
    "splitArr(arr, n, position)\n",
    "print(\"Rotated: \"+str(arr))"
   ]
  },
  {
   "cell_type": "markdown",
   "id": "39e16fab",
   "metadata": {},
   "source": [
    "# Ques 2"
   ]
  },
  {
   "cell_type": "code",
   "execution_count": 8,
   "id": "33253b3b",
   "metadata": {},
   "outputs": [
    {
     "name": "stdout",
     "output_type": "stream",
     "text": [
      "    roll_no          name    subject  age  marks\n",
      "1       100       Dishant         os   19    100\n",
      "2        20        Ritesh         ai   20     99\n",
      "3        30         Sahaj  chemistry   19     98\n",
      "4        40        Toshit    physics   20     97\n",
      "5        50         Vikas       dbms   19     96\n",
      "6        60  Legend_Vimal         ml   20     95\n",
      "7        70       Vaibhav        eco   19     94\n",
      "8        80         Harsh        eco   20     93\n",
      "9        90          Yash        eco   19     92\n",
      "10       10     Shreyansh         AI   20     91\n",
      "\n",
      "Max:  roll_no        100\n",
      "name          Yash\n",
      "subject    physics\n",
      "age             20\n",
      "marks          100\n",
      "dtype: object\n",
      "\n",
      "Min:  roll_no         10\n",
      "name       Dishant\n",
      "subject         AI\n",
      "age             19\n",
      "marks           91\n",
      "dtype: object\n",
      "\n",
      "Mean:  roll_no    55.0\n",
      "age        19.5\n",
      "marks      95.5\n",
      "dtype: float64\n",
      "\n",
      "Median:  roll_no    55.0\n",
      "age        19.5\n",
      "marks      95.5\n",
      "dtype: float64\n",
      "\n",
      "Std:  roll_no    30.276504\n",
      "age         0.527046\n",
      "marks       3.027650\n",
      "dtype: float64\n"
     ]
    },
    {
     "name": "stderr",
     "output_type": "stream",
     "text": [
      "C:\\Users\\atuls\\AppData\\Local\\Temp\\ipykernel_29900\\3221100217.py:16: FutureWarning: The default value of numeric_only in DataFrame.mean is deprecated. In a future version, it will default to False. In addition, specifying 'numeric_only=None' is deprecated. Select only valid columns or specify the value of numeric_only to silence this warning.\n",
      "  print(\"\\nMean: \",df.mean())\n",
      "C:\\Users\\atuls\\AppData\\Local\\Temp\\ipykernel_29900\\3221100217.py:17: FutureWarning: The default value of numeric_only in DataFrame.median is deprecated. In a future version, it will default to False. In addition, specifying 'numeric_only=None' is deprecated. Select only valid columns or specify the value of numeric_only to silence this warning.\n",
      "  print(\"\\nMedian: \",df.median())\n",
      "C:\\Users\\atuls\\AppData\\Local\\Temp\\ipykernel_29900\\3221100217.py:18: FutureWarning: The default value of numeric_only in DataFrame.std is deprecated. In a future version, it will default to False. In addition, specifying 'numeric_only=None' is deprecated. Select only valid columns or specify the value of numeric_only to silence this warning.\n",
      "  print(\"\\nStd: \",df.std())\n"
     ]
    }
   ],
   "source": [
    "import numpy as np \n",
    "import pandas as pd\n",
    "#(roll no, name, subject, age, marks)\n",
    "data={\n",
    "    \"roll_no\":[100,20,30,40,50,60,70,80,90,10],\n",
    "    \"name\":[\"Dishant\",\"Ritesh\",\"Sahaj\",\"Toshit\",\"Vikas\",\"Legend_Vimal\",\"Vaibhav\",\"Harsh\",\"Yash\",\"Shreyansh\"],\n",
    "    \"subject\":[\"os\",\"ai\",\"chemistry\",\"physics\",\"dbms\",\"ml\",\"eco\",\"eco\",\"eco\",\"AI\"],\n",
    "    \"age\":[19,20,19,20,19,20,19,20,19,20],\n",
    "    \"marks\":[100,99,98,97,96,95,94,93,92,91]\n",
    "}\n",
    "lables=[1,2,3,4,5,6,7,8,9,10]\n",
    "df=pd.DataFrame(data,index=lables)\n",
    "print(df)\n",
    "print(\"\\nMax: \",df.max())\n",
    "print(\"\\nMin: \",df.min())\n",
    "print(\"\\nMean: \",df.mean())\n",
    "print(\"\\nMedian: \",df.median())\n",
    "print(\"\\nStd: \",df.std())"
   ]
  },
  {
   "cell_type": "markdown",
   "id": "c24d892d",
   "metadata": {},
   "source": [
    "# Ques 8"
   ]
  },
  {
   "cell_type": "code",
   "execution_count": 9,
   "id": "2f4cb57a",
   "metadata": {},
   "outputs": [
    {
     "name": "stdout",
     "output_type": "stream",
     "text": [
      "Original array: [[0.96801761 0.16133268 0.22277518 0.10150805 0.6756199 ]\n",
      " [0.45780268 0.18366962 0.97271636 0.76860216 0.20940803]\n",
      " [0.74806091 0.39165889 0.09170899 0.85294243 0.69382709]\n",
      " [0.54752947 0.24714045 0.330841   0.52605962 0.65999658]\n",
      " [0.34491067 0.16357825 0.0390404  0.94277634 0.39158229]\n",
      " [0.3323944  0.64659585 0.88065548 0.15708745 0.1657372 ]\n",
      " [0.70792188 0.20050735 0.77084545 0.00805046 0.11665817]\n",
      " [0.75017443 0.36412986 0.03852674 0.05511071 0.84995681]\n",
      " [0.62002757 0.70439957 0.7192131  0.66470823 0.37894282]\n",
      " [0.70537574 0.76080437 0.56339679 0.16679492 0.8302896 ]\n",
      " [0.25635518 0.04854597 0.17404928 0.82936514 0.31859449]\n",
      " [0.92336304 0.76844416 0.89960039 0.92641705 0.10258019]\n",
      " [0.87538995 0.5832247  0.86338475 0.39914946 0.26534345]\n",
      " [0.70282744 0.64932148 0.03340084 0.17130797 0.86161634]\n",
      " [0.83543584 0.38520963 0.43755342 0.52642197 0.74549933]\n",
      " [0.39193615 0.08794452 0.94466045 0.78222838 0.83616824]\n",
      " [0.47473115 0.86613112 0.40301919 0.7473944  0.42064234]\n",
      " [0.50710124 0.25065434 0.73425911 0.56314589 0.58245402]\n",
      " [0.90364084 0.37974643 0.57181418 0.18542886 0.98709281]\n",
      " [0.26960568 0.26605329 0.40336102 0.39839626 0.1916932 ]]\n",
      "\n",
      "Extracted array: [[0.96801761 0.16133268 0.22277518 0.10150805 0.6756199 ]\n",
      " [0.45780268 0.18366962 0.97271636 0.76860216 0.20940803]\n",
      " [0.74806091 0.39165889 0.09170899 0.85294243 0.69382709]\n",
      " [0.54752947 0.24714045 0.330841   0.52605962 0.65999658]\n",
      " [0.34491067 0.16357825 0.0390404  0.94277634 0.39158229]\n",
      " [0.3323944  0.64659585 0.88065548 0.15708745 0.1657372 ]\n",
      " [0.70792188 0.20050735 0.77084545 0.00805046 0.11665817]\n",
      " [0.75017443 0.36412986 0.03852674 0.05511071 0.84995681]\n",
      " [0.62002757 0.70439957 0.7192131  0.66470823 0.37894282]\n",
      " [0.70537574 0.76080437 0.56339679 0.16679492 0.8302896 ]]\n"
     ]
    }
   ],
   "source": [
    "import numpy as np\n",
    "\n",
    "a=np.random.rand(20,5)\n",
    "print(\"Original array: \"+ str(a))\n",
    "b=a[:10,:]\n",
    "print()\n",
    "print(\"Extracted array: \"+ str(b))"
   ]
  },
  {
   "cell_type": "markdown",
   "id": "8e5b25f5",
   "metadata": {},
   "source": [
    "# Ques 9"
   ]
  },
  {
   "cell_type": "code",
   "execution_count": 10,
   "id": "165ec0c4",
   "metadata": {},
   "outputs": [
    {
     "name": "stdout",
     "output_type": "stream",
     "text": [
      "String: -100#^sdfkj8902w3ir021@swf-20\n",
      "Pos sum:  9046\n",
      "Neg sum:  -120\n"
     ]
    }
   ],
   "source": [
    "import re\n",
    "def pos_neg_sum(str1):\n",
    "    pos_values= sum(int(n) for n in re.findall('\\d+',str1))\n",
    "    neg_values= sum(int(n) for n in re.findall('-\\d+',str1))\n",
    "    return pos_values, neg_values\n",
    "\n",
    "str1= '-100#^sdfkj8902w3ir021@swf-20'\n",
    "print(\"String: \"+ str(str1))\n",
    "result= pos_neg_sum(str1)\n",
    "\n",
    "print(\"Pos sum: \", result[0])\n",
    "print(\"Neg sum: \", result[1])"
   ]
  },
  {
   "cell_type": "markdown",
   "id": "1714d974",
   "metadata": {},
   "source": [
    "# Ques 11"
   ]
  },
  {
   "cell_type": "code",
   "execution_count": 11,
   "id": "7e9a7e92",
   "metadata": {},
   "outputs": [
    {
     "name": "stdout",
     "output_type": "stream",
     "text": [
      "[[1 2 3]\n",
      " [4 5 6]]\n",
      "Transpose: \n",
      "[[1 4]\n",
      " [2 5]\n",
      " [3 6]]\n",
      "Flatten: \n",
      "[1 2 3 4 5 6]\n"
     ]
    }
   ],
   "source": [
    "import numpy as np\n",
    "\n",
    "arr=np.array([[1,2,3],[4,5,6]])\n",
    "print(arr)\n",
    "\n",
    "print(\"Transpose: \")\n",
    "print(arr.transpose())\n",
    "print(\"Flatten: \")\n",
    "print(arr.flatten())\n"
   ]
  },
  {
   "cell_type": "code",
   "execution_count": null,
   "id": "c0c73569",
   "metadata": {},
   "outputs": [],
   "source": []
  }
 ],
 "metadata": {
  "kernelspec": {
   "display_name": "Python 3",
   "language": "python",
   "name": "python3"
  },
  "language_info": {
   "codemirror_mode": {
    "name": "ipython",
    "version": 3
   },
   "file_extension": ".py",
   "mimetype": "text/x-python",
   "name": "python",
   "nbconvert_exporter": "python",
   "pygments_lexer": "ipython3",
   "version": "3.10.6 (main, Nov 14 2022, 16:10:14) [GCC 11.3.0]"
  },
  "vscode": {
   "interpreter": {
    "hash": "916dbcbb3f70747c44a77c7bcd40155683ae19c65e1c03b4aa3499c5328201f1"
   }
  }
 },
 "nbformat": 4,
 "nbformat_minor": 5
}
